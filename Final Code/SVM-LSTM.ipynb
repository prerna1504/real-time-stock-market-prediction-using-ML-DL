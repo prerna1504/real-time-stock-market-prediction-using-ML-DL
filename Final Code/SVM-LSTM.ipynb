{
 "cells": [
  {
   "cell_type": "code",
   "execution_count": 1,
   "metadata": {},
   "outputs": [],
   "source": [
    "import pandas as pd\n",
    "import numpy as np\n",
    "import matplotlib.pyplot as plt\n",
    "from sklearn.preprocessing import MinMaxScaler\n",
    "from sklearn.svm import SVR\n",
    "from sklearn import svm\n",
    "from keras.models import Sequential\n",
    "from keras.layers import LSTM, Dense\n",
    "import joblib\n",
    "import pickle\n",
    "from sklearn.metrics import accuracy_score, precision_score, recall_score, f1_score, roc_auc_score, confusion_matrix, mean_squared_error"
   ]
  },
  {
   "cell_type": "code",
   "execution_count": 2,
   "metadata": {},
   "outputs": [
    {
     "name": "stdout",
     "output_type": "stream",
     "text": [
      "Enter the ticker symbol of the company you want to predict: AAPL\n"
     ]
    }
   ],
   "source": [
    "# Get user input for the ticker symbol\n",
    "ticker = input(\"Enter the ticker symbol of the company you want to predict: \")\n",
    "\n",
    "# Read in the historical stock price data for the company from Yahoo Finance\n",
    "data = pd.read_csv(f'https://query1.finance.yahoo.com/v7/finance/download/{ticker}?period1=1535981100&period2=1620605100&interval=1d&events=history&includeAdjustedClose=true')"
   ]
  },
  {
   "cell_type": "code",
   "execution_count": 3,
   "metadata": {},
   "outputs": [],
   "source": [
    "# Preprocess the data\n",
    "scaler = MinMaxScaler(feature_range=(0, 1))\n",
    "data['Scaled_Open'] = scaler.fit_transform(np.array(data['Open']).reshape(-1, 1))\n",
    "data['Scaled_Close'] = scaler.fit_transform(np.array(data['Close']).reshape(-1, 1))\n",
    "data['Scaled_High'] = scaler.fit_transform(np.array(data['High']).reshape(-1, 1))\n",
    "data['Scaled_Low'] = scaler.fit_transform(np.array(data['Low']).reshape(-1, 1))\n",
    "\n",
    "# Define the input and output data\n",
    "X = np.array(data[['Scaled_Open', 'Scaled_Close', 'Scaled_High', 'Scaled_Low']])\n",
    "y = np.array(data['Scaled_Close'])\n",
    "\n",
    "# Define the train and test sets\n",
    "train_size = int(len(X) * 0.8)\n",
    "test_size = len(X) - train_size\n",
    "X_train, X_test = X[0:train_size,:], X[train_size:len(X),:]\n",
    "y_train, y_test = y[0:train_size], y[train_size:len(y)]"
   ]
  },
  {
   "cell_type": "code",
   "execution_count": 4,
   "metadata": {},
   "outputs": [],
   "source": [
    "# Define the LSTM model\n",
    "lstm_model = Sequential()\n",
    "lstm_model.add(LSTM(64, input_shape=(X_train.shape[1], 1)))\n",
    "lstm_model.add(Dense(1))\n",
    "lstm_model.compile(loss='mean_squared_error', optimizer='adam')"
   ]
  },
  {
   "cell_type": "code",
   "execution_count": 5,
   "metadata": {},
   "outputs": [
    {
     "name": "stdout",
     "output_type": "stream",
     "text": [
      "Epoch 1/50\n",
      "9/9 - 3s - loss: 0.1095 - 3s/epoch - 282ms/step\n",
      "Epoch 2/50\n",
      "9/9 - 0s - loss: 0.0458 - 41ms/epoch - 5ms/step\n",
      "Epoch 3/50\n",
      "9/9 - 0s - loss: 0.0154 - 40ms/epoch - 4ms/step\n",
      "Epoch 4/50\n",
      "9/9 - 0s - loss: 0.0120 - 39ms/epoch - 4ms/step\n",
      "Epoch 5/50\n",
      "9/9 - 0s - loss: 0.0080 - 41ms/epoch - 5ms/step\n",
      "Epoch 6/50\n",
      "9/9 - 0s - loss: 0.0047 - 41ms/epoch - 5ms/step\n",
      "Epoch 7/50\n",
      "9/9 - 0s - loss: 0.0028 - 40ms/epoch - 4ms/step\n",
      "Epoch 8/50\n",
      "9/9 - 0s - loss: 0.0013 - 40ms/epoch - 4ms/step\n",
      "Epoch 9/50\n",
      "9/9 - 0s - loss: 6.0309e-04 - 41ms/epoch - 5ms/step\n",
      "Epoch 10/50\n",
      "9/9 - 0s - loss: 3.0350e-04 - 39ms/epoch - 4ms/step\n",
      "Epoch 11/50\n",
      "9/9 - 0s - loss: 2.4382e-04 - 40ms/epoch - 4ms/step\n",
      "Epoch 12/50\n",
      "9/9 - 0s - loss: 2.3725e-04 - 40ms/epoch - 4ms/step\n",
      "Epoch 13/50\n",
      "9/9 - 0s - loss: 2.3098e-04 - 43ms/epoch - 5ms/step\n",
      "Epoch 14/50\n",
      "9/9 - 0s - loss: 2.2018e-04 - 42ms/epoch - 5ms/step\n",
      "Epoch 15/50\n",
      "9/9 - 0s - loss: 2.1105e-04 - 40ms/epoch - 4ms/step\n",
      "Epoch 16/50\n",
      "9/9 - 0s - loss: 2.0485e-04 - 39ms/epoch - 4ms/step\n",
      "Epoch 17/50\n",
      "9/9 - 0s - loss: 1.9799e-04 - 40ms/epoch - 4ms/step\n",
      "Epoch 18/50\n",
      "9/9 - 0s - loss: 1.9156e-04 - 40ms/epoch - 4ms/step\n",
      "Epoch 19/50\n",
      "9/9 - 0s - loss: 1.8566e-04 - 40ms/epoch - 4ms/step\n",
      "Epoch 20/50\n",
      "9/9 - 0s - loss: 1.7947e-04 - 40ms/epoch - 4ms/step\n",
      "Epoch 21/50\n",
      "9/9 - 0s - loss: 1.7439e-04 - 41ms/epoch - 5ms/step\n",
      "Epoch 22/50\n",
      "9/9 - 0s - loss: 1.6633e-04 - 42ms/epoch - 5ms/step\n",
      "Epoch 23/50\n",
      "9/9 - 0s - loss: 1.6440e-04 - 42ms/epoch - 5ms/step\n",
      "Epoch 24/50\n",
      "9/9 - 0s - loss: 1.5515e-04 - 44ms/epoch - 5ms/step\n",
      "Epoch 25/50\n",
      "9/9 - 0s - loss: 1.5018e-04 - 43ms/epoch - 5ms/step\n",
      "Epoch 26/50\n",
      "9/9 - 0s - loss: 1.4473e-04 - 43ms/epoch - 5ms/step\n",
      "Epoch 27/50\n",
      "9/9 - 0s - loss: 1.3851e-04 - 41ms/epoch - 5ms/step\n",
      "Epoch 28/50\n",
      "9/9 - 0s - loss: 1.3356e-04 - 41ms/epoch - 5ms/step\n",
      "Epoch 29/50\n",
      "9/9 - 0s - loss: 1.2857e-04 - 41ms/epoch - 5ms/step\n",
      "Epoch 30/50\n",
      "9/9 - 0s - loss: 1.2397e-04 - 40ms/epoch - 4ms/step\n",
      "Epoch 31/50\n",
      "9/9 - 0s - loss: 1.1803e-04 - 42ms/epoch - 5ms/step\n",
      "Epoch 32/50\n",
      "9/9 - 0s - loss: 1.1441e-04 - 42ms/epoch - 5ms/step\n",
      "Epoch 33/50\n",
      "9/9 - 0s - loss: 1.0954e-04 - 41ms/epoch - 5ms/step\n",
      "Epoch 34/50\n",
      "9/9 - 0s - loss: 1.0492e-04 - 41ms/epoch - 5ms/step\n",
      "Epoch 35/50\n",
      "9/9 - 0s - loss: 1.0083e-04 - 40ms/epoch - 4ms/step\n",
      "Epoch 36/50\n",
      "9/9 - 0s - loss: 9.7196e-05 - 42ms/epoch - 5ms/step\n",
      "Epoch 37/50\n",
      "9/9 - 0s - loss: 9.2982e-05 - 41ms/epoch - 5ms/step\n",
      "Epoch 38/50\n",
      "9/9 - 0s - loss: 8.9584e-05 - 43ms/epoch - 5ms/step\n",
      "Epoch 39/50\n",
      "9/9 - 0s - loss: 8.9305e-05 - 39ms/epoch - 4ms/step\n",
      "Epoch 40/50\n",
      "9/9 - 0s - loss: 8.3978e-05 - 41ms/epoch - 5ms/step\n",
      "Epoch 41/50\n",
      "9/9 - 0s - loss: 8.0587e-05 - 42ms/epoch - 5ms/step\n",
      "Epoch 42/50\n",
      "9/9 - 0s - loss: 7.8169e-05 - 43ms/epoch - 5ms/step\n",
      "Epoch 43/50\n",
      "9/9 - 0s - loss: 7.6293e-05 - 42ms/epoch - 5ms/step\n",
      "Epoch 44/50\n",
      "9/9 - 0s - loss: 7.0420e-05 - 43ms/epoch - 5ms/step\n",
      "Epoch 45/50\n",
      "9/9 - 0s - loss: 6.9434e-05 - 40ms/epoch - 4ms/step\n",
      "Epoch 46/50\n",
      "9/9 - 0s - loss: 6.6617e-05 - 40ms/epoch - 4ms/step\n",
      "Epoch 47/50\n",
      "9/9 - 0s - loss: 6.4828e-05 - 43ms/epoch - 5ms/step\n",
      "Epoch 48/50\n",
      "9/9 - 0s - loss: 6.3140e-05 - 38ms/epoch - 4ms/step\n",
      "Epoch 49/50\n",
      "9/9 - 0s - loss: 6.1251e-05 - 42ms/epoch - 5ms/step\n",
      "Epoch 50/50\n",
      "9/9 - 0s - loss: 5.9182e-05 - 40ms/epoch - 4ms/step\n"
     ]
    },
    {
     "data": {
      "text/plain": [
       "<keras.callbacks.History at 0x19b4a03af10>"
      ]
     },
     "execution_count": 5,
     "metadata": {},
     "output_type": "execute_result"
    }
   ],
   "source": [
    "# Train the LSTM model\n",
    "X_train = X_train.reshape((X_train.shape[0], X_train.shape[1], 1))\n",
    "X_test = X_test.reshape((X_test.shape[0], X_test.shape[1], 1))\n",
    "lstm_model.fit(X_train, y_train, epochs=50, batch_size=64, verbose=2)"
   ]
  },
  {
   "cell_type": "code",
   "execution_count": 5,
   "metadata": {},
   "outputs": [
    {
     "name": "stdout",
     "output_type": "stream",
     "text": [
      "17/17 [==============================] - 1s 2ms/step\n",
      "5/5 [==============================] - 0s 0s/step\n"
     ]
    }
   ],
   "source": [
    "# Make predictions using the LSTM model\n",
    "lstm_y_train_pred = lstm_model.predict(X_train)\n",
    "lstm_y_test_pred = lstm_model.predict(X_test)"
   ]
  },
  {
   "cell_type": "code",
   "execution_count": 6,
   "metadata": {},
   "outputs": [
    {
     "data": {
      "text/html": [
       "<style>#sk-container-id-1 {color: black;}#sk-container-id-1 pre{padding: 0;}#sk-container-id-1 div.sk-toggleable {background-color: white;}#sk-container-id-1 label.sk-toggleable__label {cursor: pointer;display: block;width: 100%;margin-bottom: 0;padding: 0.3em;box-sizing: border-box;text-align: center;}#sk-container-id-1 label.sk-toggleable__label-arrow:before {content: \"▸\";float: left;margin-right: 0.25em;color: #696969;}#sk-container-id-1 label.sk-toggleable__label-arrow:hover:before {color: black;}#sk-container-id-1 div.sk-estimator:hover label.sk-toggleable__label-arrow:before {color: black;}#sk-container-id-1 div.sk-toggleable__content {max-height: 0;max-width: 0;overflow: hidden;text-align: left;background-color: #f0f8ff;}#sk-container-id-1 div.sk-toggleable__content pre {margin: 0.2em;color: black;border-radius: 0.25em;background-color: #f0f8ff;}#sk-container-id-1 input.sk-toggleable__control:checked~div.sk-toggleable__content {max-height: 200px;max-width: 100%;overflow: auto;}#sk-container-id-1 input.sk-toggleable__control:checked~label.sk-toggleable__label-arrow:before {content: \"▾\";}#sk-container-id-1 div.sk-estimator input.sk-toggleable__control:checked~label.sk-toggleable__label {background-color: #d4ebff;}#sk-container-id-1 div.sk-label input.sk-toggleable__control:checked~label.sk-toggleable__label {background-color: #d4ebff;}#sk-container-id-1 input.sk-hidden--visually {border: 0;clip: rect(1px 1px 1px 1px);clip: rect(1px, 1px, 1px, 1px);height: 1px;margin: -1px;overflow: hidden;padding: 0;position: absolute;width: 1px;}#sk-container-id-1 div.sk-estimator {font-family: monospace;background-color: #f0f8ff;border: 1px dotted black;border-radius: 0.25em;box-sizing: border-box;margin-bottom: 0.5em;}#sk-container-id-1 div.sk-estimator:hover {background-color: #d4ebff;}#sk-container-id-1 div.sk-parallel-item::after {content: \"\";width: 100%;border-bottom: 1px solid gray;flex-grow: 1;}#sk-container-id-1 div.sk-label:hover label.sk-toggleable__label {background-color: #d4ebff;}#sk-container-id-1 div.sk-serial::before {content: \"\";position: absolute;border-left: 1px solid gray;box-sizing: border-box;top: 0;bottom: 0;left: 50%;z-index: 0;}#sk-container-id-1 div.sk-serial {display: flex;flex-direction: column;align-items: center;background-color: white;padding-right: 0.2em;padding-left: 0.2em;position: relative;}#sk-container-id-1 div.sk-item {position: relative;z-index: 1;}#sk-container-id-1 div.sk-parallel {display: flex;align-items: stretch;justify-content: center;background-color: white;position: relative;}#sk-container-id-1 div.sk-item::before, #sk-container-id-1 div.sk-parallel-item::before {content: \"\";position: absolute;border-left: 1px solid gray;box-sizing: border-box;top: 0;bottom: 0;left: 50%;z-index: -1;}#sk-container-id-1 div.sk-parallel-item {display: flex;flex-direction: column;z-index: 1;position: relative;background-color: white;}#sk-container-id-1 div.sk-parallel-item:first-child::after {align-self: flex-end;width: 50%;}#sk-container-id-1 div.sk-parallel-item:last-child::after {align-self: flex-start;width: 50%;}#sk-container-id-1 div.sk-parallel-item:only-child::after {width: 0;}#sk-container-id-1 div.sk-dashed-wrapped {border: 1px dashed gray;margin: 0 0.4em 0.5em 0.4em;box-sizing: border-box;padding-bottom: 0.4em;background-color: white;}#sk-container-id-1 div.sk-label label {font-family: monospace;font-weight: bold;display: inline-block;line-height: 1.2em;}#sk-container-id-1 div.sk-label-container {text-align: center;}#sk-container-id-1 div.sk-container {/* jupyter's `normalize.less` sets `[hidden] { display: none; }` but bootstrap.min.css set `[hidden] { display: none !important; }` so we also need the `!important` here to be able to override the default hidden behavior on the sphinx rendered scikit-learn.org. See: https://github.com/scikit-learn/scikit-learn/issues/21755 */display: inline-block !important;position: relative;}#sk-container-id-1 div.sk-text-repr-fallback {display: none;}</style><div id=\"sk-container-id-1\" class=\"sk-top-container\"><div class=\"sk-text-repr-fallback\"><pre>SVR(C=100, gamma=0.1)</pre><b>In a Jupyter environment, please rerun this cell to show the HTML representation or trust the notebook. <br />On GitHub, the HTML representation is unable to render, please try loading this page with nbviewer.org.</b></div><div class=\"sk-container\" hidden><div class=\"sk-item\"><div class=\"sk-estimator sk-toggleable\"><input class=\"sk-toggleable__control sk-hidden--visually\" id=\"sk-estimator-id-1\" type=\"checkbox\" checked><label for=\"sk-estimator-id-1\" class=\"sk-toggleable__label sk-toggleable__label-arrow\">SVR</label><div class=\"sk-toggleable__content\"><pre>SVR(C=100, gamma=0.1)</pre></div></div></div></div></div>"
      ],
      "text/plain": [
       "SVR(C=100, gamma=0.1)"
      ]
     },
     "execution_count": 6,
     "metadata": {},
     "output_type": "execute_result"
    }
   ],
   "source": [
    "# Define the SVM model\n",
    "svm_model = SVR(kernel='rbf', C=100, gamma=0.1, epsilon=.1)\n",
    "\n",
    "# Train the SVM model\n",
    "svm_model.fit(lstm_y_train_pred, y_train)"
   ]
  },
  {
   "cell_type": "code",
   "execution_count": 17,
   "metadata": {},
   "outputs": [],
   "source": [
    "# Make predictions using the combined LSTM-SVM model\n",
    "combined_y_train_pred = svm_model.predict(lstm_y_train_pred)\n",
    "combined_y_test_pred = svm_model.predict(lstm_y_test_pred)"
   ]
  },
  {
   "cell_type": "code",
   "execution_count": 8,
   "metadata": {},
   "outputs": [
    {
     "name": "stdout",
     "output_type": "stream",
     "text": [
      "Train RMSE: 0.06371915438678552\n",
      "Test RMSE: 0.11029796620249015\n"
     ]
    }
   ],
   "source": [
    "# Evaluate the model\n",
    "train_score = np.sqrt(np.mean(np.square(y_train - combined_y_train_pred)))\n",
    "test_score = np.sqrt(np.mean(np.square(y_test - combined_y_test_pred)))\n",
    "print('Train RMSE:', train_score)\n",
    "print('Test RMSE:', test_score)"
   ]
  },
  {
   "cell_type": "code",
   "execution_count": 16,
   "metadata": {},
   "outputs": [
    {
     "data": {
      "image/png": "[encoded data removed]",
      "text/plain": [
       "<Figure size 640x480 with 1 Axes>"
      ]
     },
     "metadata": {},
     "output_type": "display_data"
    }
   ],
   "source": [
    "# Plot the actual and predicted stock prices\n",
    "scale_factor = 0.00944555\n",
    "combined_y_test_pred = combined_y_test_pred / scale_factor\n",
    "y_test = y_test / scale_factor\n",
    "plt.plot(y_test, color = 'red', label = 'Actual Stock Price')\n",
    "plt.plot(combined_y_test_pred, color = 'blue', label = 'Predicted Stock Price')\n",
    "plt.title('LSTM-SVM')\n",
    "plt.xlabel('Time')\n",
    "plt.ylabel('Stock Price')\n",
    "plt.legend()\n",
    "plt.show()"
   ]
  },
  {
   "cell_type": "code",
   "execution_count": 9,
   "metadata": {},
   "outputs": [
    {
     "data": {
      "text/plain": [
       "['svm_model.pkl']"
      ]
     },
     "execution_count": 9,
     "metadata": {},
     "output_type": "execute_result"
    }
   ],
   "source": [
    "joblib.dump(svm_model, 'svm_model.pkl')"
   ]
  },
  {
   "cell_type": "code",
   "execution_count": 10,
   "metadata": {},
   "outputs": [
    {
     "name": "stderr",
     "output_type": "stream",
     "text": [
      "C:\\Users\\Prerna\\anaconda3\\Lib\\site-packages\\keras\\src\\engine\\training.py:3079: UserWarning: You are saving your model as an HDF5 file via `model.save()`. This file format is considered legacy. We recommend using instead the native Keras format, e.g. `model.save('my_model.keras')`.\n",
      "  saving_api.save_model(\n"
     ]
    }
   ],
   "source": [
    "lstm_model.save('lstm.h5')"
   ]
  },
  {
   "cell_type": "code",
   "execution_count": 11,
   "metadata": {},
   "outputs": [],
   "source": [
    "filename = 'trained_model.sav'\n",
    "pickle.dump(svm_model, open(filename, 'wb'))"
   ]
  },
  {
   "cell_type": "code",
   "execution_count": 12,
   "metadata": {},
   "outputs": [],
   "source": [
    "# loading the saved model\n",
    "loaded_model = pickle.load(open('trained_model.sav', 'rb'))"
   ]
  },
  {
   "cell_type": "code",
   "execution_count": 13,
   "metadata": {},
   "outputs": [
    {
     "name": "stdout",
     "output_type": "stream",
     "text": [
      "Model: \"sequential\"\n",
      "_________________________________________________________________\n",
      " Layer (type)                Output Shape              Param #   \n",
      "=================================================================\n",
      " lstm (LSTM)                 (None, 64)                16896     \n",
      "                                                                 \n",
      " dense (Dense)               (None, 1)                 65        \n",
      "                                                                 \n",
      "=================================================================\n",
      "Total params: 16961 (66.25 KB)\n",
      "Trainable params: 16961 (66.25 KB)\n",
      "Non-trainable params: 0 (0.00 Byte)\n",
      "_________________________________________________________________\n"
     ]
    }
   ],
   "source": [
    "lstm_model.summary()"
   ]
  },
  {
   "cell_type": "code",
   "execution_count": 14,
   "metadata": {},
   "outputs": [
    {
     "name": "stdout",
     "output_type": "stream",
     "text": [
      "Confusion Matrix:\n",
      "[[135]]\n"
     ]
    }
   ],
   "source": [
    "from sklearn.metrics import confusion_matrix\n",
    "\n",
    "# Convert the predicted values to binary labels\n",
    "threshold = 0.5  # Adjust the threshold as per your requirements\n",
    "binary_predictions = np.where(combined_y_test_pred > threshold, 1, 0)\n",
    "\n",
    "# Convert the true labels to binary\n",
    "binary_labels = np.where(combined_y_test_pred > threshold, 1, 0)\n",
    "\n",
    "# Create the confusion matrix\n",
    "confusion_mat = confusion_matrix(binary_labels, binary_predictions)\n",
    "print(\"Confusion Matrix:\")\n",
    "print(confusion_mat)\n"
   ]
  },
  {
   "cell_type": "code",
   "execution_count": null,
   "metadata": {},
   "outputs": [],
   "source": []
  },
  {
   "cell_type": "code",
   "execution_count": null,
   "metadata": {},
   "outputs": [],
   "source": []
  }
 ],
 "metadata": {
  "kernelspec": {
   "display_name": "Python 3 (ipykernel)",
   "language": "python",
   "name": "python3"
  },
  "language_info": {
   "codemirror_mode": {
    "name": "ipython",
    "version": 3
   },
   "file_extension": ".py",
   "mimetype": "text/x-python",
   "name": "python",
   "nbconvert_exporter": "python",
   "pygments_lexer": "ipython3",
   "version": "3.11.4"
  }
 },
 "nbformat": 4,
 "nbformat_minor": 4
}
