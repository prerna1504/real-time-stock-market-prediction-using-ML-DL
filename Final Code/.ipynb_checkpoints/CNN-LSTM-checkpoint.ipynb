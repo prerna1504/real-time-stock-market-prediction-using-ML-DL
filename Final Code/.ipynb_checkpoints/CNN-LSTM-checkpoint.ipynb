{
 "cells": [
  {
   "cell_type": "code",
   "execution_count": 16,
   "metadata": {
    "scrolled": false
   },
   "outputs": [],
   "source": [
    "#from pandas.io.formats.format import DataFrameRenderer\n",
    "import import_ipynb\n",
    "import pandas as pd\n",
    "import numpy as np\n",
    "import matplotlib.pyplot as plt\n",
    "from sklearn.preprocessing import MinMaxScaler\n",
    "from tensorflow.keras.models import Sequential\n",
    "from tensorflow.keras.layers import LSTM, Dense, Conv1D, MaxPooling1D\n",
    "from sklearn.metrics import accuracy_score, precision_score, recall_score, f1_score, roc_auc_score, confusion_matrix, mean_squared_error"
   ]
  },
  {
   "cell_type": "code",
   "execution_count": 17,
   "metadata": {},
   "outputs": [
    {
     "name": "stdout",
     "output_type": "stream",
     "text": [
      "Enter the ticker symbol of the company you want to predict: meta\n"
     ]
    }
   ],
   "source": [
    "# Get user input for the ticker symbol\n",
    "ticker = input(\"Enter the ticker symbol of the company you want to predict: \")\n",
    "\n",
    "# Read in the historical stock price data for the company from Yahoo Finance\n",
    "data = pd.read_csv(f'https://query1.finance.yahoo.com/v7/finance/download/{ticker}?period1=1535981100&period2=1620605100&interval=1d&events=history&includeAdjustedClose=true')"
   ]
  },
  {
   "cell_type": "code",
   "execution_count": 18,
   "metadata": {},
   "outputs": [],
   "source": [
    "# Preprocess the data\n",
    "scaler = MinMaxScaler(feature_range=(0, 1))\n",
    "data['Scaled_Open'] = scaler.fit_transform(np.array(data['Open']).reshape(-1, 1))\n",
    "data['Scaled_Close'] = scaler.fit_transform(np.array(data['Close']).reshape(-1, 1))\n",
    "data['Scaled_High'] = scaler.fit_transform(np.array(data['High']).reshape(-1, 1))\n",
    "data['Scaled_Low'] = scaler.fit_transform(np.array(data['Low']).reshape(-1, 1))\n",
    "\n",
    "# Define the input and output data\n",
    "X = np.array(data[['Scaled_Open', 'Scaled_Close', 'Scaled_High', 'Scaled_Low']])\n",
    "y = np.array(data['Scaled_Close'])"
   ]
  },
  {
   "cell_type": "code",
   "execution_count": 19,
   "metadata": {},
   "outputs": [],
   "source": [
    "# Define the train and test sets\n",
    "train_size = int(len(X) * 0.8)\n",
    "test_size = len(X) - train_size\n",
    "X_train, X_test = X[0:train_size,:], X[train_size:len(X),:]\n",
    "y_train, y_test = y[0:train_size], y[train_size:len(y)]"
   ]
  },
  {
   "cell_type": "code",
   "execution_count": 20,
   "metadata": {},
   "outputs": [],
   "source": [
    "# Define the model architecture\n",
    "model = Sequential()\n",
    "model.add(Conv1D(filters=64, kernel_size=3, activation='relu', input_shape=(X_train.shape[1], 1)))\n",
    "model.add(MaxPooling1D(pool_size=2))\n",
    "model.add(LSTM(64))\n",
    "model.add(Dense(1))\n",
    "model.compile(optimizer='adam', loss='mse')"
   ]
  },
  {
   "cell_type": "code",
   "execution_count": 21,
   "metadata": {},
   "outputs": [
    {
     "name": "stdout",
     "output_type": "stream",
     "text": [
      "Epoch 1/50\n",
      "9/9 - 3s - loss: 0.1225 - val_loss: 0.3861 - 3s/epoch - 337ms/step\n",
      "Epoch 2/50\n",
      "9/9 - 0s - loss: 0.0661 - val_loss: 0.1928 - 71ms/epoch - 8ms/step\n",
      "Epoch 3/50\n",
      "9/9 - 0s - loss: 0.0211 - val_loss: 0.0398 - 70ms/epoch - 8ms/step\n",
      "Epoch 4/50\n",
      "9/9 - 0s - loss: 0.0072 - val_loss: 0.0010 - 69ms/epoch - 8ms/step\n",
      "Epoch 5/50\n",
      "9/9 - 0s - loss: 0.0079 - val_loss: 0.0074 - 68ms/epoch - 8ms/step\n",
      "Epoch 6/50\n",
      "9/9 - 0s - loss: 0.0043 - val_loss: 0.0202 - 67ms/epoch - 7ms/step\n",
      "Epoch 7/50\n",
      "9/9 - 0s - loss: 0.0037 - val_loss: 0.0113 - 70ms/epoch - 8ms/step\n",
      "Epoch 8/50\n",
      "9/9 - 0s - loss: 0.0025 - val_loss: 0.0039 - 69ms/epoch - 8ms/step\n",
      "Epoch 9/50\n",
      "9/9 - 0s - loss: 0.0018 - val_loss: 0.0018 - 68ms/epoch - 8ms/step\n",
      "Epoch 10/50\n",
      "9/9 - 0s - loss: 0.0012 - val_loss: 0.0017 - 67ms/epoch - 7ms/step\n",
      "Epoch 11/50\n",
      "9/9 - 0s - loss: 7.6911e-04 - val_loss: 4.9968e-04 - 69ms/epoch - 8ms/step\n",
      "Epoch 12/50\n",
      "9/9 - 0s - loss: 4.6428e-04 - val_loss: 1.8104e-04 - 72ms/epoch - 8ms/step\n",
      "Epoch 13/50\n",
      "9/9 - 0s - loss: 3.0281e-04 - val_loss: 2.3523e-04 - 69ms/epoch - 8ms/step\n",
      "Epoch 14/50\n",
      "9/9 - 0s - loss: 2.1950e-04 - val_loss: 4.3694e-04 - 72ms/epoch - 8ms/step\n",
      "Epoch 15/50\n",
      "9/9 - 0s - loss: 1.8905e-04 - val_loss: 6.0803e-04 - 69ms/epoch - 8ms/step\n",
      "Epoch 16/50\n",
      "9/9 - 0s - loss: 1.7864e-04 - val_loss: 6.9441e-04 - 68ms/epoch - 8ms/step\n",
      "Epoch 17/50\n",
      "9/9 - 0s - loss: 1.7483e-04 - val_loss: 7.6874e-04 - 69ms/epoch - 8ms/step\n",
      "Epoch 18/50\n",
      "9/9 - 0s - loss: 1.7175e-04 - val_loss: 7.6961e-04 - 69ms/epoch - 8ms/step\n",
      "Epoch 19/50\n",
      "9/9 - 0s - loss: 1.6931e-04 - val_loss: 6.8265e-04 - 70ms/epoch - 8ms/step\n",
      "Epoch 20/50\n",
      "9/9 - 0s - loss: 1.6714e-04 - val_loss: 5.6462e-04 - 72ms/epoch - 8ms/step\n",
      "Epoch 21/50\n",
      "9/9 - 0s - loss: 1.6174e-04 - val_loss: 6.4853e-04 - 70ms/epoch - 8ms/step\n",
      "Epoch 22/50\n",
      "9/9 - 0s - loss: 1.5733e-04 - val_loss: 5.0240e-04 - 69ms/epoch - 8ms/step\n",
      "Epoch 23/50\n",
      "9/9 - 0s - loss: 1.5307e-04 - val_loss: 5.1701e-04 - 68ms/epoch - 8ms/step\n",
      "Epoch 24/50\n",
      "9/9 - 0s - loss: 1.4491e-04 - val_loss: 3.9324e-04 - 70ms/epoch - 8ms/step\n",
      "Epoch 25/50\n",
      "9/9 - 0s - loss: 1.3641e-04 - val_loss: 3.2973e-04 - 69ms/epoch - 8ms/step\n",
      "Epoch 26/50\n",
      "9/9 - 0s - loss: 1.2385e-04 - val_loss: 2.7207e-04 - 73ms/epoch - 8ms/step\n",
      "Epoch 27/50\n",
      "9/9 - 0s - loss: 1.1242e-04 - val_loss: 2.1458e-04 - 73ms/epoch - 8ms/step\n",
      "Epoch 28/50\n",
      "9/9 - 0s - loss: 1.0473e-04 - val_loss: 2.3512e-04 - 72ms/epoch - 8ms/step\n",
      "Epoch 29/50\n",
      "9/9 - 0s - loss: 9.8124e-05 - val_loss: 2.0433e-04 - 70ms/epoch - 8ms/step\n",
      "Epoch 30/50\n",
      "9/9 - 0s - loss: 9.3095e-05 - val_loss: 2.3389e-04 - 69ms/epoch - 8ms/step\n",
      "Epoch 31/50\n",
      "9/9 - 0s - loss: 8.8633e-05 - val_loss: 1.9952e-04 - 68ms/epoch - 8ms/step\n",
      "Epoch 32/50\n",
      "9/9 - 0s - loss: 8.2210e-05 - val_loss: 2.5283e-04 - 67ms/epoch - 7ms/step\n",
      "Epoch 33/50\n",
      "9/9 - 0s - loss: 8.1470e-05 - val_loss: 1.9314e-04 - 73ms/epoch - 8ms/step\n",
      "Epoch 34/50\n",
      "9/9 - 0s - loss: 7.6355e-05 - val_loss: 2.3537e-04 - 68ms/epoch - 8ms/step\n",
      "Epoch 35/50\n",
      "9/9 - 0s - loss: 7.4542e-05 - val_loss: 1.9387e-04 - 73ms/epoch - 8ms/step\n",
      "Epoch 36/50\n",
      "9/9 - 0s - loss: 7.2707e-05 - val_loss: 2.0341e-04 - 72ms/epoch - 8ms/step\n",
      "Epoch 37/50\n",
      "9/9 - 0s - loss: 7.1216e-05 - val_loss: 1.9876e-04 - 69ms/epoch - 8ms/step\n",
      "Epoch 38/50\n",
      "9/9 - 0s - loss: 7.0281e-05 - val_loss: 2.0116e-04 - 72ms/epoch - 8ms/step\n",
      "Epoch 39/50\n",
      "9/9 - 0s - loss: 6.9238e-05 - val_loss: 2.0344e-04 - 71ms/epoch - 8ms/step\n",
      "Epoch 40/50\n",
      "9/9 - 0s - loss: 6.8440e-05 - val_loss: 1.8213e-04 - 79ms/epoch - 9ms/step\n",
      "Epoch 41/50\n",
      "9/9 - 0s - loss: 6.7811e-05 - val_loss: 1.8284e-04 - 69ms/epoch - 8ms/step\n",
      "Epoch 42/50\n",
      "9/9 - 0s - loss: 6.7903e-05 - val_loss: 1.8110e-04 - 70ms/epoch - 8ms/step\n",
      "Epoch 43/50\n",
      "9/9 - 0s - loss: 6.6427e-05 - val_loss: 1.9575e-04 - 68ms/epoch - 8ms/step\n",
      "Epoch 44/50\n",
      "9/9 - 0s - loss: 6.5676e-05 - val_loss: 1.7306e-04 - 67ms/epoch - 7ms/step\n",
      "Epoch 45/50\n",
      "9/9 - 0s - loss: 6.5661e-05 - val_loss: 1.8160e-04 - 72ms/epoch - 8ms/step\n",
      "Epoch 46/50\n",
      "9/9 - 0s - loss: 6.5052e-05 - val_loss: 1.7466e-04 - 65ms/epoch - 7ms/step\n",
      "Epoch 47/50\n",
      "9/9 - 0s - loss: 6.5433e-05 - val_loss: 1.7650e-04 - 71ms/epoch - 8ms/step\n",
      "Epoch 48/50\n",
      "9/9 - 0s - loss: 6.5488e-05 - val_loss: 1.6887e-04 - 69ms/epoch - 8ms/step\n",
      "Epoch 49/50\n",
      "9/9 - 0s - loss: 6.4842e-05 - val_loss: 1.7000e-04 - 66ms/epoch - 7ms/step\n",
      "Epoch 50/50\n",
      "9/9 - 0s - loss: 6.4688e-05 - val_loss: 1.6941e-04 - 64ms/epoch - 7ms/step\n"
     ]
    }
   ],
   "source": [
    "# Train the model\n",
    "X_train = X_train.reshape((X_train.shape[0], X_train.shape[1], 1))\n",
    "X_test = X_test.reshape((X_test.shape[0], X_test.shape[1], 1))\n",
    "history = model.fit(X_train, y_train, epochs=50, batch_size=64, validation_data=(X_test, y_test), verbose=2)"
   ]
  },
  {
   "cell_type": "code",
   "execution_count": 22,
   "metadata": {},
   "outputs": [
    {
     "name": "stdout",
     "output_type": "stream",
     "text": [
      "Train RMSE: 0.007989962421025787\n",
      "Test RMSE: 0.01301565259695705\n"
     ]
    }
   ],
   "source": [
    "# Evaluate the model\n",
    "train_score = model.evaluate(X_train, y_train, verbose=0)\n",
    "test_score = model.evaluate(X_test, y_test, verbose=0)\n",
    "print('Train RMSE:', np.sqrt(train_score))\n",
    "print('Test RMSE:', np.sqrt(test_score))"
   ]
  },
  {
   "cell_type": "code",
   "execution_count": 23,
   "metadata": {},
   "outputs": [
    {
     "name": "stdout",
     "output_type": "stream",
     "text": [
      "5/5 [==============================] - 0s 3ms/step\n"
     ]
    }
   ],
   "source": [
    "# Make predictions on the test set\n",
    "y_pred = model.predict(X_test)\n"
   ]
  },
  {
   "cell_type": "code",
   "execution_count": 24,
   "metadata": {},
   "outputs": [
    {
     "data": {
      "image/png": "[encoded data removed]",
      "text/plain": [
       "<Figure size 432x288 with 1 Axes>"
      ]
     },
     "metadata": {
      "needs_background": "light"
     },
     "output_type": "display_data"
    }
   ],
   "source": [
    "# Plot the actual and predicted stock prices\n",
    "scale_factor = 0.00917562\n",
    "y_pred = y_pred / scale_factor\n",
    "y_test = y_test / scale_factor\n",
    "plt.plot(y_test, color = 'red', label = 'Actual Stock Price')\n",
    "plt.plot(y_pred, color = 'blue', label = 'Predicted Stock Price')\n",
    "plt.title('CNN-LSTM')\n",
    "plt.xlabel('Time')\n",
    "plt.ylabel('Stock Price')\n",
    "plt.legend()\n",
    "plt.show()"
   ]
  },
  {
   "cell_type": "code",
   "execution_count": 25,
   "metadata": {},
   "outputs": [
    {
     "name": "stdout",
     "output_type": "stream",
     "text": [
      "Model: \"sequential_1\"\n",
      "_________________________________________________________________\n",
      " Layer (type)                Output Shape              Param #   \n",
      "=================================================================\n",
      " conv1d_1 (Conv1D)           (None, 2, 64)             256       \n",
      "                                                                 \n",
      " max_pooling1d_1 (MaxPooling  (None, 1, 64)            0         \n",
      " 1D)                                                             \n",
      "                                                                 \n",
      " lstm_1 (LSTM)               (None, 64)                33024     \n",
      "                                                                 \n",
      " dense_1 (Dense)             (None, 1)                 65        \n",
      "                                                                 \n",
      "=================================================================\n",
      "Total params: 33,345\n",
      "Trainable params: 33,345\n",
      "Non-trainable params: 0\n",
      "_________________________________________________________________\n"
     ]
    }
   ],
   "source": [
    "model.summary()"
   ]
  },
  {
   "cell_type": "code",
   "execution_count": 26,
   "metadata": {},
   "outputs": [],
   "source": [
    "model.save('cnn_lstm.h5')"
   ]
  },
  {
   "cell_type": "code",
   "execution_count": 27,
   "metadata": {},
   "outputs": [
    {
     "data": {
      "text/plain": [
       "array([0.00496327])"
      ]
     },
     "execution_count": 27,
     "metadata": {},
     "output_type": "execute_result"
    }
   ],
   "source": [
    "scaler.scale_"
   ]
  },
  {
   "cell_type": "code",
   "execution_count": null,
   "metadata": {},
   "outputs": [],
   "source": []
  },
  {
   "cell_type": "code",
   "execution_count": null,
   "metadata": {},
   "outputs": [],
   "source": []
  }
 ],
 "metadata": {
  "kernelspec": {
   "display_name": "Python 3",
   "language": "python",
   "name": "python3"
  },
  "language_info": {
   "codemirror_mode": {
    "name": "ipython",
    "version": 3
   },
   "file_extension": ".py",
   "mimetype": "text/x-python",
   "name": "python",
   "nbconvert_exporter": "python",
   "pygments_lexer": "ipython3",
   "version": "3.8.5"
  }
 },
 "nbformat": 4,
 "nbformat_minor": 4
}
