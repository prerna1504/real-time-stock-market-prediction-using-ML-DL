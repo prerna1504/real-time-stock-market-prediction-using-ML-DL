{
 "cells": [
  {
   "cell_type": "code",
   "execution_count": 2,
   "metadata": {},
   "outputs": [
    {
     "name": "stdout",
     "output_type": "stream",
     "text": [
      "Collecting import-ipynbNote: you may need to restart the kernel to use updated packages.\n",
      "\n",
      "  Downloading import_ipynb-0.1.4-py3-none-any.whl (4.1 kB)\n",
      "Requirement already satisfied: IPython in c:\\users\\prerna\\anaconda3\\lib\\site-packages (from import-ipynb) (8.12.0)\n",
      "Requirement already satisfied: nbformat in c:\\users\\prerna\\anaconda3\\lib\\site-packages (from import-ipynb) (5.7.0)\n",
      "Requirement already satisfied: backcall in c:\\users\\prerna\\anaconda3\\lib\\site-packages (from IPython->import-ipynb) (0.2.0)\n",
      "Requirement already satisfied: decorator in c:\\users\\prerna\\anaconda3\\lib\\site-packages (from IPython->import-ipynb) (5.1.1)\n",
      "Requirement already satisfied: jedi>=0.16 in c:\\users\\prerna\\anaconda3\\lib\\site-packages (from IPython->import-ipynb) (0.18.1)\n",
      "Requirement already satisfied: matplotlib-inline in c:\\users\\prerna\\anaconda3\\lib\\site-packages (from IPython->import-ipynb) (0.1.6)\n",
      "Requirement already satisfied: pickleshare in c:\\users\\prerna\\anaconda3\\lib\\site-packages (from IPython->import-ipynb) (0.7.5)\n",
      "Requirement already satisfied: prompt-toolkit!=3.0.37,<3.1.0,>=3.0.30 in c:\\users\\prerna\\anaconda3\\lib\\site-packages (from IPython->import-ipynb) (3.0.36)\n",
      "Requirement already satisfied: pygments>=2.4.0 in c:\\users\\prerna\\anaconda3\\lib\\site-packages (from IPython->import-ipynb) (2.15.1)\n",
      "Requirement already satisfied: stack-data in c:\\users\\prerna\\anaconda3\\lib\\site-packages (from IPython->import-ipynb) (0.2.0)\n",
      "Requirement already satisfied: traitlets>=5 in c:\\users\\prerna\\anaconda3\\lib\\site-packages (from IPython->import-ipynb) (5.7.1)\n",
      "Requirement already satisfied: colorama in c:\\users\\prerna\\anaconda3\\lib\\site-packages (from IPython->import-ipynb) (0.4.6)\n",
      "Requirement already satisfied: fastjsonschema in c:\\users\\prerna\\anaconda3\\lib\\site-packages (from nbformat->import-ipynb) (2.16.2)\n",
      "Requirement already satisfied: jsonschema>=2.6 in c:\\users\\prerna\\anaconda3\\lib\\site-packages (from nbformat->import-ipynb) (4.17.3)\n",
      "Requirement already satisfied: jupyter-core in c:\\users\\prerna\\anaconda3\\lib\\site-packages (from nbformat->import-ipynb) (5.3.0)\n",
      "Requirement already satisfied: parso<0.9.0,>=0.8.0 in c:\\users\\prerna\\anaconda3\\lib\\site-packages (from jedi>=0.16->IPython->import-ipynb) (0.8.3)\n",
      "Requirement already satisfied: attrs>=17.4.0 in c:\\users\\prerna\\anaconda3\\lib\\site-packages (from jsonschema>=2.6->nbformat->import-ipynb) (22.1.0)\n",
      "Requirement already satisfied: pyrsistent!=0.17.0,!=0.17.1,!=0.17.2,>=0.14.0 in c:\\users\\prerna\\anaconda3\\lib\\site-packages (from jsonschema>=2.6->nbformat->import-ipynb) (0.18.0)\n",
      "Requirement already satisfied: wcwidth in c:\\users\\prerna\\anaconda3\\lib\\site-packages (from prompt-toolkit!=3.0.37,<3.1.0,>=3.0.30->IPython->import-ipynb) (0.2.5)\n",
      "Requirement already satisfied: platformdirs>=2.5 in c:\\users\\prerna\\anaconda3\\lib\\site-packages (from jupyter-core->nbformat->import-ipynb) (2.5.2)\n",
      "Requirement already satisfied: pywin32>=300 in c:\\users\\prerna\\anaconda3\\lib\\site-packages (from jupyter-core->nbformat->import-ipynb) (305.1)\n",
      "Requirement already satisfied: executing in c:\\users\\prerna\\anaconda3\\lib\\site-packages (from stack-data->IPython->import-ipynb) (0.8.3)\n",
      "Requirement already satisfied: asttokens in c:\\users\\prerna\\anaconda3\\lib\\site-packages (from stack-data->IPython->import-ipynb) (2.0.5)\n",
      "Requirement already satisfied: pure-eval in c:\\users\\prerna\\anaconda3\\lib\\site-packages (from stack-data->IPython->import-ipynb) (0.2.2)\n",
      "Requirement already satisfied: six in c:\\users\\prerna\\anaconda3\\lib\\site-packages (from asttokens->stack-data->IPython->import-ipynb) (1.16.0)\n",
      "Installing collected packages: import-ipynb\n",
      "Successfully installed import-ipynb-0.1.4\n"
     ]
    },
    {
     "name": "stderr",
     "output_type": "stream",
     "text": [
      "\n",
      "[notice] A new release of pip is available: 23.1.2 -> 23.3.1\n",
      "[notice] To update, run: python.exe -m pip install --upgrade pip\n"
     ]
    }
   ],
   "source": [
    "pip install import-ipynb\n"
   ]
  },
  {
   "cell_type": "code",
   "execution_count": 3,
   "metadata": {
    "scrolled": false
   },
   "outputs": [],
   "source": [
    "#from pandas.io.formats.format import DataFrameRenderer\n",
    "import import_ipynb\n",
    "import pandas as pd\n",
    "import numpy as np\n",
    "import matplotlib.pyplot as plt\n",
    "from sklearn.preprocessing import MinMaxScaler\n",
    "from tensorflow.keras.models import Sequential\n",
    "from tensorflow.keras.layers import LSTM, Dense, Conv1D, MaxPooling1D\n",
    "from sklearn.metrics import accuracy_score, precision_score, recall_score, f1_score, roc_auc_score, confusion_matrix, mean_squared_error"
   ]
  },
  {
   "cell_type": "code",
   "execution_count": null,
   "metadata": {},
   "outputs": [],
   "source": []
  },
  {
   "cell_type": "code",
   "execution_count": 5,
   "metadata": {},
   "outputs": [
    {
     "name": "stdout",
     "output_type": "stream",
     "text": [
      "Enter the ticker symbol of the company you want to predict: AAPL\n"
     ]
    }
   ],
   "source": [
    "# Get user input for the ticker symbol\n",
    "ticker = input(\"Enter the ticker symbol of the company you want to predict: \")\n",
    "\n",
    "# Read in the historical stock price data for the company from Yahoo Finance\n",
    "data = pd.read_csv(f'https://query1.finance.yahoo.com/v7/finance/download/{ticker}?period1=1535981100&period2=1620605100&interval=1d&events=history&includeAdjustedClose=true')"
   ]
  },
  {
   "cell_type": "code",
   "execution_count": 6,
   "metadata": {},
   "outputs": [],
   "source": [
    "# Preprocess the data\n",
    "scaler = MinMaxScaler(feature_range=(0, 1))\n",
    "data['Scaled_Open'] = scaler.fit_transform(np.array(data['Open']).reshape(-1, 1))\n",
    "data['Scaled_Close'] = scaler.fit_transform(np.array(data['Close']).reshape(-1, 1))\n",
    "data['Scaled_High'] = scaler.fit_transform(np.array(data['High']).reshape(-1, 1))\n",
    "data['Scaled_Low'] = scaler.fit_transform(np.array(data['Low']).reshape(-1, 1))\n",
    "\n",
    "# Define the input and output data\n",
    "X = np.array(data[['Scaled_Open', 'Scaled_Close', 'Scaled_High', 'Scaled_Low']])\n",
    "y = np.array(data['Scaled_Close'])"
   ]
  },
  {
   "cell_type": "code",
   "execution_count": 7,
   "metadata": {},
   "outputs": [],
   "source": [
    "# Define the train and test sets\n",
    "train_size = int(len(X) * 0.8)\n",
    "test_size = len(X) - train_size\n",
    "X_train, X_test = X[0:train_size,:], X[train_size:len(X),:]\n",
    "y_train, y_test = y[0:train_size], y[train_size:len(y)]"
   ]
  },
  {
   "cell_type": "code",
   "execution_count": 8,
   "metadata": {},
   "outputs": [],
   "source": [
    "# Define the model architecture\n",
    "model = Sequential()\n",
    "model.add(Conv1D(filters=64, kernel_size=3, activation='relu', input_shape=(X_train.shape[1], 1)))\n",
    "model.add(MaxPooling1D(pool_size=2))\n",
    "model.add(LSTM(64))\n",
    "model.add(Dense(1))\n",
    "model.compile(optimizer='adam', loss='mse')"
   ]
  },
  {
   "cell_type": "code",
   "execution_count": 9,
   "metadata": {},
   "outputs": [
    {
     "data": {
      "text/html": [
       "<div>\n",
       "<style scoped>\n",
       "    .dataframe tbody tr th:only-of-type {\n",
       "        vertical-align: middle;\n",
       "    }\n",
       "\n",
       "    .dataframe tbody tr th {\n",
       "        vertical-align: top;\n",
       "    }\n",
       "\n",
       "    .dataframe thead th {\n",
       "        text-align: right;\n",
       "    }\n",
       "</style>\n",
       "<table border=\"1\" class=\"dataframe\">\n",
       "  <thead>\n",
       "    <tr style=\"text-align: right;\">\n",
       "      <th></th>\n",
       "      <th>Date</th>\n",
       "      <th>Open</th>\n",
       "      <th>High</th>\n",
       "      <th>Low</th>\n",
       "      <th>Close</th>\n",
       "      <th>Adj Close</th>\n",
       "      <th>Volume</th>\n",
       "      <th>Scaled_Open</th>\n",
       "      <th>Scaled_Close</th>\n",
       "      <th>Scaled_High</th>\n",
       "      <th>Scaled_Low</th>\n",
       "    </tr>\n",
       "  </thead>\n",
       "  <tbody>\n",
       "    <tr>\n",
       "      <th>0</th>\n",
       "      <td>2018-09-04</td>\n",
       "      <td>57.102501</td>\n",
       "      <td>57.294998</td>\n",
       "      <td>56.657501</td>\n",
       "      <td>57.090000</td>\n",
       "      <td>54.605076</td>\n",
       "      <td>109560400</td>\n",
       "      <td>0.196157</td>\n",
       "      <td>0.200186</td>\n",
       "      <td>0.192021</td>\n",
       "      <td>0.199844</td>\n",
       "    </tr>\n",
       "    <tr>\n",
       "      <th>1</th>\n",
       "      <td>2018-09-05</td>\n",
       "      <td>57.247501</td>\n",
       "      <td>57.417500</td>\n",
       "      <td>56.275002</td>\n",
       "      <td>56.717499</td>\n",
       "      <td>54.248787</td>\n",
       "      <td>133332000</td>\n",
       "      <td>0.197505</td>\n",
       "      <td>0.196724</td>\n",
       "      <td>0.193148</td>\n",
       "      <td>0.196231</td>\n",
       "    </tr>\n",
       "    <tr>\n",
       "      <th>2</th>\n",
       "      <td>2018-09-06</td>\n",
       "      <td>56.557499</td>\n",
       "      <td>56.837502</td>\n",
       "      <td>55.325001</td>\n",
       "      <td>55.775002</td>\n",
       "      <td>53.347305</td>\n",
       "      <td>137160000</td>\n",
       "      <td>0.191092</td>\n",
       "      <td>0.187966</td>\n",
       "      <td>0.187811</td>\n",
       "      <td>0.187258</td>\n",
       "    </tr>\n",
       "    <tr>\n",
       "      <th>3</th>\n",
       "      <td>2018-09-07</td>\n",
       "      <td>55.462502</td>\n",
       "      <td>56.342499</td>\n",
       "      <td>55.177502</td>\n",
       "      <td>55.325001</td>\n",
       "      <td>52.916897</td>\n",
       "      <td>150479200</td>\n",
       "      <td>0.180916</td>\n",
       "      <td>0.183784</td>\n",
       "      <td>0.183255</td>\n",
       "      <td>0.185865</td>\n",
       "    </tr>\n",
       "    <tr>\n",
       "      <th>4</th>\n",
       "      <td>2018-09-10</td>\n",
       "      <td>55.237499</td>\n",
       "      <td>55.462502</td>\n",
       "      <td>54.117500</td>\n",
       "      <td>54.582500</td>\n",
       "      <td>52.206722</td>\n",
       "      <td>158066000</td>\n",
       "      <td>0.178825</td>\n",
       "      <td>0.176885</td>\n",
       "      <td>0.175156</td>\n",
       "      <td>0.175852</td>\n",
       "    </tr>\n",
       "  </tbody>\n",
       "</table>\n",
       "</div>"
      ],
      "text/plain": [
       "         Date       Open       High        Low      Close  Adj Close   \n",
       "0  2018-09-04  57.102501  57.294998  56.657501  57.090000  54.605076  \\\n",
       "1  2018-09-05  57.247501  57.417500  56.275002  56.717499  54.248787   \n",
       "2  2018-09-06  56.557499  56.837502  55.325001  55.775002  53.347305   \n",
       "3  2018-09-07  55.462502  56.342499  55.177502  55.325001  52.916897   \n",
       "4  2018-09-10  55.237499  55.462502  54.117500  54.582500  52.206722   \n",
       "\n",
       "      Volume  Scaled_Open  Scaled_Close  Scaled_High  Scaled_Low  \n",
       "0  109560400     0.196157      0.200186     0.192021    0.199844  \n",
       "1  133332000     0.197505      0.196724     0.193148    0.196231  \n",
       "2  137160000     0.191092      0.187966     0.187811    0.187258  \n",
       "3  150479200     0.180916      0.183784     0.183255    0.185865  \n",
       "4  158066000     0.178825      0.176885     0.175156    0.175852  "
      ]
     },
     "execution_count": 9,
     "metadata": {},
     "output_type": "execute_result"
    }
   ],
   "source": [
    "data.head()\n"
   ]
  },
  {
   "cell_type": "code",
   "execution_count": 10,
   "metadata": {},
   "outputs": [
    {
     "name": "stdout",
     "output_type": "stream",
     "text": [
      "Epoch 1/50\n",
      "9/9 - 9s - loss: 0.1008 - val_loss: 0.4784 - 9s/epoch - 979ms/step\n",
      "Epoch 2/50\n",
      "9/9 - 0s - loss: 0.0565 - val_loss: 0.2495 - 160ms/epoch - 18ms/step\n",
      "Epoch 3/50\n",
      "9/9 - 0s - loss: 0.0204 - val_loss: 0.0547 - 136ms/epoch - 15ms/step\n",
      "Epoch 4/50\n",
      "9/9 - 0s - loss: 0.0100 - val_loss: 0.0029 - 148ms/epoch - 16ms/step\n",
      "Epoch 5/50\n",
      "9/9 - 0s - loss: 0.0091 - val_loss: 0.0118 - 155ms/epoch - 17ms/step\n",
      "Epoch 6/50\n",
      "9/9 - 0s - loss: 0.0050 - val_loss: 0.0222 - 158ms/epoch - 18ms/step\n",
      "Epoch 7/50\n",
      "9/9 - 0s - loss: 0.0036 - val_loss: 0.0095 - 134ms/epoch - 15ms/step\n",
      "Epoch 8/50\n",
      "9/9 - 0s - loss: 0.0019 - val_loss: 9.5221e-04 - 141ms/epoch - 16ms/step\n",
      "Epoch 9/50\n",
      "9/9 - 0s - loss: 0.0012 - val_loss: 1.1517e-04 - 137ms/epoch - 15ms/step\n",
      "Epoch 10/50\n",
      "9/9 - 0s - loss: 6.1714e-04 - val_loss: 1.6107e-04 - 134ms/epoch - 15ms/step\n",
      "Epoch 11/50\n",
      "9/9 - 0s - loss: 3.9155e-04 - val_loss: 3.2299e-04 - 124ms/epoch - 14ms/step\n",
      "Epoch 12/50\n",
      "9/9 - 0s - loss: 2.8881e-04 - val_loss: 9.4647e-04 - 144ms/epoch - 16ms/step\n",
      "Epoch 13/50\n",
      "9/9 - 0s - loss: 2.5334e-04 - val_loss: 9.4221e-04 - 130ms/epoch - 14ms/step\n",
      "Epoch 14/50\n",
      "9/9 - 0s - loss: 2.4305e-04 - val_loss: 0.0010 - 122ms/epoch - 14ms/step\n",
      "Epoch 15/50\n",
      "9/9 - 0s - loss: 2.3618e-04 - val_loss: 0.0011 - 136ms/epoch - 15ms/step\n",
      "Epoch 16/50\n",
      "9/9 - 0s - loss: 2.2653e-04 - val_loss: 0.0010 - 126ms/epoch - 14ms/step\n",
      "Epoch 17/50\n",
      "9/9 - 0s - loss: 2.1941e-04 - val_loss: 9.7725e-04 - 133ms/epoch - 15ms/step\n",
      "Epoch 18/50\n",
      "9/9 - 0s - loss: 2.1264e-04 - val_loss: 0.0010 - 132ms/epoch - 15ms/step\n",
      "Epoch 19/50\n",
      "9/9 - 0s - loss: 2.0488e-04 - val_loss: 6.9859e-04 - 141ms/epoch - 16ms/step\n",
      "Epoch 20/50\n",
      "9/9 - 0s - loss: 1.9737e-04 - val_loss: 9.3814e-04 - 127ms/epoch - 14ms/step\n",
      "Epoch 21/50\n",
      "9/9 - 0s - loss: 1.9483e-04 - val_loss: 9.3140e-04 - 127ms/epoch - 14ms/step\n",
      "Epoch 22/50\n",
      "9/9 - 0s - loss: 1.8921e-04 - val_loss: 6.2289e-04 - 149ms/epoch - 17ms/step\n",
      "Epoch 23/50\n",
      "9/9 - 0s - loss: 1.8082e-04 - val_loss: 8.8342e-04 - 173ms/epoch - 19ms/step\n",
      "Epoch 24/50\n",
      "9/9 - 0s - loss: 1.7532e-04 - val_loss: 6.7867e-04 - 133ms/epoch - 15ms/step\n",
      "Epoch 25/50\n",
      "9/9 - 0s - loss: 1.7174e-04 - val_loss: 6.5611e-04 - 148ms/epoch - 16ms/step\n",
      "Epoch 26/50\n",
      "9/9 - 0s - loss: 1.6736e-04 - val_loss: 7.6724e-04 - 166ms/epoch - 18ms/step\n",
      "Epoch 27/50\n",
      "9/9 - 0s - loss: 1.5951e-04 - val_loss: 5.1648e-04 - 156ms/epoch - 17ms/step\n",
      "Epoch 28/50\n",
      "9/9 - 0s - loss: 1.5693e-04 - val_loss: 6.9321e-04 - 156ms/epoch - 17ms/step\n",
      "Epoch 29/50\n",
      "9/9 - 0s - loss: 1.4936e-04 - val_loss: 5.1774e-04 - 233ms/epoch - 26ms/step\n",
      "Epoch 30/50\n",
      "9/9 - 0s - loss: 1.4536e-04 - val_loss: 6.4012e-04 - 167ms/epoch - 19ms/step\n",
      "Epoch 31/50\n",
      "9/9 - 0s - loss: 1.4010e-04 - val_loss: 4.6127e-04 - 138ms/epoch - 15ms/step\n",
      "Epoch 32/50\n",
      "9/9 - 0s - loss: 1.3564e-04 - val_loss: 5.4404e-04 - 142ms/epoch - 16ms/step\n",
      "Epoch 33/50\n",
      "9/9 - 0s - loss: 1.3155e-04 - val_loss: 4.2639e-04 - 121ms/epoch - 13ms/step\n",
      "Epoch 34/50\n",
      "9/9 - 0s - loss: 1.2656e-04 - val_loss: 4.6914e-04 - 137ms/epoch - 15ms/step\n",
      "Epoch 35/50\n",
      "9/9 - 0s - loss: 1.2390e-04 - val_loss: 3.7018e-04 - 149ms/epoch - 17ms/step\n",
      "Epoch 36/50\n",
      "9/9 - 0s - loss: 1.1724e-04 - val_loss: 4.2528e-04 - 125ms/epoch - 14ms/step\n",
      "Epoch 37/50\n",
      "9/9 - 0s - loss: 1.1289e-04 - val_loss: 3.5965e-04 - 116ms/epoch - 13ms/step\n",
      "Epoch 38/50\n",
      "9/9 - 0s - loss: 1.0911e-04 - val_loss: 3.7460e-04 - 108ms/epoch - 12ms/step\n",
      "Epoch 39/50\n",
      "9/9 - 0s - loss: 1.0496e-04 - val_loss: 2.7152e-04 - 132ms/epoch - 15ms/step\n",
      "Epoch 40/50\n",
      "9/9 - 0s - loss: 1.0239e-04 - val_loss: 3.3062e-04 - 146ms/epoch - 16ms/step\n",
      "Epoch 41/50\n",
      "9/9 - 0s - loss: 9.6472e-05 - val_loss: 2.2919e-04 - 121ms/epoch - 13ms/step\n",
      "Epoch 42/50\n",
      "9/9 - 0s - loss: 1.0407e-04 - val_loss: 2.7270e-04 - 117ms/epoch - 13ms/step\n",
      "Epoch 43/50\n",
      "9/9 - 0s - loss: 9.9390e-05 - val_loss: 2.5772e-04 - 134ms/epoch - 15ms/step\n",
      "Epoch 44/50\n",
      "9/9 - 0s - loss: 8.7970e-05 - val_loss: 1.9580e-04 - 125ms/epoch - 14ms/step\n",
      "Epoch 45/50\n",
      "9/9 - 0s - loss: 8.4110e-05 - val_loss: 2.7022e-04 - 141ms/epoch - 16ms/step\n",
      "Epoch 46/50\n",
      "9/9 - 0s - loss: 8.2002e-05 - val_loss: 2.0965e-04 - 130ms/epoch - 14ms/step\n",
      "Epoch 47/50\n",
      "9/9 - 0s - loss: 7.7497e-05 - val_loss: 1.9518e-04 - 122ms/epoch - 14ms/step\n",
      "Epoch 48/50\n",
      "9/9 - 0s - loss: 7.4945e-05 - val_loss: 1.7974e-04 - 127ms/epoch - 14ms/step\n",
      "Epoch 49/50\n",
      "9/9 - 0s - loss: 7.1769e-05 - val_loss: 1.7989e-04 - 129ms/epoch - 14ms/step\n",
      "Epoch 50/50\n",
      "9/9 - 0s - loss: 7.0461e-05 - val_loss: 1.4445e-04 - 132ms/epoch - 15ms/step\n"
     ]
    }
   ],
   "source": [
    "# Train the model\n",
    "X_train = X_train.reshape((X_train.shape[0], X_train.shape[1], 1))\n",
    "X_test = X_test.reshape((X_test.shape[0], X_test.shape[1], 1))\n",
    "history = model.fit(X_train, y_train, epochs=50, batch_size=64, validation_data=(X_test, y_test), verbose=2)"
   ]
  },
  {
   "cell_type": "code",
   "execution_count": 11,
   "metadata": {},
   "outputs": [
    {
     "name": "stdout",
     "output_type": "stream",
     "text": [
      "Train RMSE: 0.008222500980558056\n",
      "Test RMSE: 0.012018816850113233\n"
     ]
    }
   ],
   "source": [
    "# Evaluate the model\n",
    "train_score = model.evaluate(X_train, y_train, verbose=0)\n",
    "test_score = model.evaluate(X_test, y_test, verbose=0)\n",
    "print('Train RMSE:', np.sqrt(train_score))\n",
    "print('Test RMSE:', np.sqrt(test_score))"
   ]
  },
  {
   "cell_type": "code",
   "execution_count": 12,
   "metadata": {},
   "outputs": [
    {
     "name": "stdout",
     "output_type": "stream",
     "text": [
      "5/5 [==============================] - 1s 5ms/step\n"
     ]
    }
   ],
   "source": [
    "# Make predictions on the test set\n",
    "y_pred = model.predict(X_test)\n"
   ]
  },
  {
   "cell_type": "code",
   "execution_count": 29,
   "metadata": {},
   "outputs": [
    {
     "data": {
      "image/png": "[encoded data removed]",
      "text/plain": [
       "<Figure size 432x288 with 1 Axes>"
      ]
     },
     "metadata": {
      "needs_background": "light"
     },
     "output_type": "display_data"
    }
   ],
   "source": [
    "# Plot the actual and predicted stock prices\n",
    "scale_factor = 0.00917562\n",
    "y_pred = y_pred / scale_factor\n",
    "y_test = y_test / scale_factor\n",
    "plt.plot(y_test, color = 'red', label = 'Actual Stock Price')\n",
    "plt.plot(y_pred, color = 'blue', label = 'Predicted Stock Price')\n",
    "plt.title('CNN-LSTM')\n",
    "plt.xlabel('Time')\n",
    "plt.ylabel('Stock Price')\n",
    "plt.legend()\n",
    "plt.show()"
   ]
  },
  {
   "cell_type": "code",
   "execution_count": 13,
   "metadata": {},
   "outputs": [
    {
     "name": "stdout",
     "output_type": "stream",
     "text": [
      "Model: \"sequential\"\n",
      "_________________________________________________________________\n",
      " Layer (type)                Output Shape              Param #   \n",
      "=================================================================\n",
      " conv1d (Conv1D)             (None, 2, 64)             256       \n",
      "                                                                 \n",
      " max_pooling1d (MaxPooling1  (None, 1, 64)             0         \n",
      " D)                                                              \n",
      "                                                                 \n",
      " lstm (LSTM)                 (None, 64)                33024     \n",
      "                                                                 \n",
      " dense (Dense)               (None, 1)                 65        \n",
      "                                                                 \n",
      "=================================================================\n",
      "Total params: 33345 (130.25 KB)\n",
      "Trainable params: 33345 (130.25 KB)\n",
      "Non-trainable params: 0 (0.00 Byte)\n",
      "_________________________________________________________________\n"
     ]
    }
   ],
   "source": [
    "model.summary()"
   ]
  },
  {
   "cell_type": "code",
   "execution_count": 14,
   "metadata": {},
   "outputs": [
    {
     "name": "stderr",
     "output_type": "stream",
     "text": [
      "C:\\Users\\Prerna\\anaconda3\\Lib\\site-packages\\keras\\src\\engine\\training.py:3079: UserWarning: You are saving your model as an HDF5 file via `model.save()`. This file format is considered legacy. We recommend using instead the native Keras format, e.g. `model.save('my_model.keras')`.\n",
      "  saving_api.save_model(\n"
     ]
    }
   ],
   "source": [
    "model.save('cnn_lstm.h5')"
   ]
  },
  {
   "cell_type": "code",
   "execution_count": 15,
   "metadata": {},
   "outputs": [
    {
     "data": {
      "text/plain": [
       "array([0.00944555])"
      ]
     },
     "execution_count": 15,
     "metadata": {},
     "output_type": "execute_result"
    }
   ],
   "source": [
    "scaler.scale_"
   ]
  },
  {
   "cell_type": "code",
   "execution_count": 16,
   "metadata": {},
   "outputs": [
    {
     "name": "stdout",
     "output_type": "stream",
     "text": [
      "1/1 [==============================] - 0s 47ms/step\n",
      "Tomorrow's predicted closing price: [129.56744]\n"
     ]
    }
   ],
   "source": [
    "# Make predictions on the test set\n",
    "X_pred = np.array([X_test[-1]])\n",
    "X_pred = X_pred.reshape((X_pred.shape[0], X_pred.shape[1], 1))\n",
    "y_pred = model.predict(X_pred)\n",
    "\n",
    "# Inverse transform the scaled prediction\n",
    "y_pred = scaler.inverse_transform(y_pred)\n",
    "\n",
    "print('Tomorrow\\'s predicted closing price:', y_pred[0])"
   ]
  },
  {
   "cell_type": "code",
   "execution_count": 17,
   "metadata": {},
   "outputs": [
    {
     "name": "stdout",
     "output_type": "stream",
     "text": [
      "Regression Equation: y = [-0.29558566] * x + 0.009034116\n"
     ]
    }
   ],
   "source": [
    "# Get the regression equation\n",
    "regression_coef = model.layers[-1].get_weights()[0][0]\n",
    "regression_intercept = model.layers[-1].get_weights()[1][0]\n",
    "print('Regression Equation: y =', regression_coef, '* x +', regression_intercept)"
   ]
  },
  {
   "cell_type": "code",
   "execution_count": null,
   "metadata": {},
   "outputs": [],
   "source": []
  }
 ],
 "metadata": {
  "kernelspec": {
   "display_name": "Python 3 (ipykernel)",
   "language": "python",
   "name": "python3"
  },
  "language_info": {
   "codemirror_mode": {
    "name": "ipython",
    "version": 3
   },
   "file_extension": ".py",
   "mimetype": "text/x-python",
   "name": "python",
   "nbconvert_exporter": "python",
   "pygments_lexer": "ipython3",
   "version": "3.11.4"
  }
 },
 "nbformat": 4,
 "nbformat_minor": 4
}
